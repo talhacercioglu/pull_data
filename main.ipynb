{
 "cells": [
  {
   "cell_type": "code",
   "execution_count": 1,
   "metadata": {},
   "outputs": [],
   "source": [
    "#driver\n",
    "from selenium import webdriver\n",
    "from selenium.webdriver.support.ui import WebDriverWait\n",
    "from selenium.webdriver.common.by import By\n",
    "from selenium.webdriver.support import expected_conditions as EC\n",
    "#time\n",
    "from time import sleep\n",
    "# Data manipulation\n",
    "import pandas as pd\n",
    "# Visualization\n",
    "import matplotlib.pyplot as plt\n",
    "import seaborn as sns\n"
   ]
  },
  {
   "cell_type": "code",
   "execution_count": 5,
   "metadata": {},
   "outputs": [],
   "source": [
    "driver = webdriver.Chrome()\n",
    "driver.get(\"Site_Link_From_Which_You_Will_Pull_Data\")"
   ]
  },
  {
   "cell_type": "code",
   "execution_count": 6,
   "metadata": {},
   "outputs": [],
   "source": [
    "# If there is a button like page transition or show more, you can use it\n",
    "while True:\n",
    "    try:\n",
    "        # Wait to find the button (will throw an error if it can't find it within 10 seconds)\n",
    "        button = WebDriverWait(driver, 2).until(EC.presence_of_element_located((By.XPATH, 'See_More_Result_Button')))\n",
    "\n",
    "        # Wait until the button is clickable\n",
    "        WebDriverWait(driver, 1).until(EC.element_to_be_clickable((By.XPATH, 'See_More_Result_Button')))\n",
    "\n",
    "        # When the button is found, click it\n",
    "        button.click()\n",
    "    except:\n",
    "        # End the loop if the button cannot be found or clicked\n",
    "        break"
   ]
  },
  {
   "cell_type": "code",
   "execution_count": null,
   "metadata": {},
   "outputs": [],
   "source": [
    "import pandas as pd\n",
    "\n",
    "# Find all data with XPath\n",
    "data = driver.find_elements(By.XPATH, 'Xpath of data')\n",
    "print(\"Collect_Data\")\n",
    "\n",
    "# Create a list to store data\n",
    "data_list = []\n",
    "\n",
    "# Inspect each item and add the text it contains to the list\n",
    "for element in data:\n",
    "    data_list.append(element.text)\n",
    "\n",
    "print(\"We are assigning data to the list...\")\n",
    "\n",
    "# Convert data to a DataFrame\n",
    "data = {\n",
    "    'Data': data_list,\n",
    "}\n",
    "\n",
    "df = pd.DataFrame(data)\n",
    "\n",
    "# Save the DataFrame to a CSV file\n",
    "df.to_csv('data.csv', index=False)"
   ]
  }
 ],
 "metadata": {
  "kernelspec": {
   "display_name": "Python 3",
   "language": "python",
   "name": "python3"
  },
  "language_info": {
   "codemirror_mode": {
    "name": "ipython",
    "version": 3
   },
   "file_extension": ".py",
   "mimetype": "text/x-python",
   "name": "python",
   "nbconvert_exporter": "python",
   "pygments_lexer": "ipython3",
   "version": "3.11.5"
  }
 },
 "nbformat": 4,
 "nbformat_minor": 2
}
